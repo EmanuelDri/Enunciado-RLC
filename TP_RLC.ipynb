{
  "nbformat": 4,
  "nbformat_minor": 0,
  "metadata": {
    "colab": {
      "name": "TP RLC.ipynb",
      "provenance": [],
      "collapsed_sections": [],
      "authorship_tag": "ABX9TyOqA19EOzk4bmV3qzJQy99l",
      "include_colab_link": true
    },
    "kernelspec": {
      "name": "python3",
      "display_name": "Python 3"
    }
  },
  "cells": [
    {
      "cell_type": "markdown",
      "metadata": {
        "id": "view-in-github",
        "colab_type": "text"
      },
      "source": [
        "<a href=\"https://colab.research.google.com/github/EmanuelDri/FisicaCollab/blob/master/TP_RLC.ipynb\" target=\"_parent\"><img src=\"https://colab.research.google.com/assets/colab-badge.svg\" alt=\"Open In Colab\"/></a>"
      ]
    },
    {
      "cell_type": "markdown",
      "metadata": {
        "id": "6YPyjttGsMN9",
        "colab_type": "text"
      },
      "source": [
        "# Importar librerías"
      ]
    },
    {
      "cell_type": "code",
      "metadata": {
        "id": "6kO9U5aHUgYE",
        "colab_type": "code",
        "colab": {}
      },
      "source": [
        "#hola, soy un comentario\n",
        "import numpy as np #importamos la librería de cálculo\n",
        "from matplotlib import pyplot as plt #importamos la librería de ploteo"
      ],
      "execution_count": 0,
      "outputs": []
    },
    {
      "cell_type": "markdown",
      "metadata": {
        "id": "DTIjTsUBsCRo",
        "colab_type": "text"
      },
      "source": [
        "# Trabajar con variables\n",
        "Para crear una variable usamos el signo \"=\"\n",
        "Las variables persisten en todo el notebook, se pueden usar en cualquier bloque de código una vez que son instanciadas"
      ]
    },
    {
      "cell_type": "code",
      "metadata": {
        "id": "HwRGEasxcDSQ",
        "colab_type": "code",
        "colab": {}
      },
      "source": [
        "a=7 #creamos la variable \"a\" y le asignamos el valor 7\n",
        "#se puede destinar un bloque de código para "
      ],
      "execution_count": 0,
      "outputs": []
    },
    {
      "cell_type": "markdown",
      "metadata": {
        "id": "tCERy95nsKMA",
        "colab_type": "text"
      },
      "source": [
        "En el bloque de abajo "
      ]
    },
    {
      "cell_type": "markdown",
      "metadata": {
        "id": "pVsS2EJjcE-Z",
        "colab_type": "text"
      },
      "source": [
        ""
      ]
    }
  ]
}