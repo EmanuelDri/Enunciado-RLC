{
  "nbformat": 4,
  "nbformat_minor": 0,
  "metadata": {
    "colab": {
      "name": "TP RLC.ipynb",
      "provenance": [],
      "collapsed_sections": [],
      "toc_visible": true,
      "include_colab_link": true
    },
    "kernelspec": {
      "name": "python3",
      "display_name": "Python 3"
    }
  },
  "cells": [
    {
      "cell_type": "markdown",
      "metadata": {
        "id": "view-in-github",
        "colab_type": "text"
      },
      "source": [
        "<a href=\"https://colab.research.google.com/github/EmanuelDri/FisicaCollab/blob/master/TP_RLC.ipynb\" target=\"_parent\"><img src=\"https://colab.research.google.com/assets/colab-badge.svg\" alt=\"Open In Colab\"/></a>"
      ]
    },
    {
      "cell_type": "markdown",
      "metadata": {
        "id": "slxkBlbOuR_A"
      },
      "source": [
        "# Descripción del TP"
      ]
    },
    {
      "cell_type": "markdown",
      "metadata": {
        "id": "snGrjiScAgg4"
      },
      "source": [
        "## Introducción\n",
        "En este práctico se pide desarrollar un programa que calcule parámetros de interés para un circuito RLC serie.  \n",
        "Tomando como datos de entrada:\n",
        "* εmax\n",
        "* la frecuencia de la fuente en Hz\n",
        "* los valores de R, L y C:  \n",
        "\n",
        "El programa debe determinar: \n",
        "* Imax \n",
        "* la diferencia de potencial de cada componente \n",
        "* la potencia media\n",
        "* el factor Q\n",
        "* el factor de potencia (cosφ)\n",
        "* la impedancia compleja Z\n",
        "* La frecuencia de resonancia del sistema.\n",
        "* Cuál de las tres impedancias domina el comportamiento del circuito\n",
        "\n",
        "También debe representar gráficamente:\n",
        " * El diagrama de fasores de tensiones del circuito RLC (`función quiver`).\n",
        " * Las tensiones VL, VC, VR y ε superpuestas en el dominio del tiempo.\n",
        " * Las ecuaciones de la FEM y la corriente con los valores correspondientes a los datos de entrada."
      ]
    },
    {
      "cell_type": "markdown",
      "metadata": {
        "id": "U3t45zOsAZxp"
      },
      "source": [
        "## Requerimientos de la implementación\n",
        "1. El desarrollo debe realizarse empleando el entorno Google Collaboratory (BTW donde estás leyendo ahora), el cual está basado en el lenguaje de programación Python.\n",
        "2. Crear un nuevo notebook para este práctico. Cuando se entregue el práctico el notebook debe estar con visibilidad pública.  \n",
        " * Durante el desarrollo debe compartirse con sbrulh@gmail.com, contediego13@gmail.com y emanueldri@gmail.com, con permiso de visualización y generar comentarios *(no edición)*\n",
        " * Para crear un notebook nuevo:\n",
        ">Archivo → Bloc de notas nuevo   \n",
        "3. Cada cambio significativo debe guardarse fijando una revisión del archivo `Archivo → Guardar y fijar revisión`. \n",
        "4. Cada bloque de código debe de estar documentado mediante comentarios que expliquen cómo funciona. No es necesario comentar cada sentencia de programación, pero sí es necesario entender qué es lo que hacen.\n",
        "5. La implementación de cada funcionalidad del programa debe estar implementada en un bloque de código diferente.\n",
        "6. Cada bloque de código debe ir acompañado por un título introductorio a su funcionalidad (introduciendo un bloque de texto antes).\n",
        "7. El ingreso de datos para la ejecución del programa debe hacerse mediante un [formulario interactivo](https://colab.research.google.com/notebooks/forms.ipynb)\n",
        "8. Incluir un esquema del circuito, se puede dibujar en https://www.circuit-diagram.org/editor/#"
      ]
    },
    {
      "cell_type": "markdown",
      "metadata": {
        "id": "p6jSicxmAOCk"
      },
      "source": [
        "#Tutorial\n"
      ]
    },
    {
      "cell_type": "markdown",
      "metadata": {
        "id": "FuID1IAbA45f"
      },
      "source": [
        "##Google Colaboratory (Colab) y Jupyter Notebook\n",
        "El espacio en el que vamos a trabajar se llama Google Colaboratory, esta es una plataforma de cómputo en la nube. La forma que dispone para interactuar con ella es [Jupiter Notebook](https://jupyter.org/), que permite de manera interactiva escribir texto y ejecutar código en Python."
      ]
    },
    {
      "cell_type": "markdown",
      "metadata": {
        "id": "0XErT7psA1_5"
      },
      "source": [
        "## Usando Markdown\n",
        "Markdown son un conjunto de instrucciones mediante las cuales le indicamos a Jupyter Notebook qué formato darle al texto. ***Doble click en cualquier parte del texto de este notebook ver cómo está escrito usando markdown***."
      ]
    },
    {
      "cell_type": "markdown",
      "metadata": {
        "id": "b0rhEbzDArYG"
      },
      "source": [
        "## Trabajando en equipo\n",
        "Para trabajar colaborativamente, hacer click en el botón `Compartir` del panel superior."
      ]
    },
    {
      "cell_type": "markdown",
      "metadata": {
        "id": "6YPyjttGsMN9"
      },
      "source": [
        "# Programación en Python"
      ]
    },
    {
      "cell_type": "markdown",
      "metadata": {
        "id": "HF-XyHIcvonI"
      },
      "source": [
        "##Importar librerías"
      ]
    },
    {
      "cell_type": "code",
      "metadata": {
        "id": "6kO9U5aHUgYE"
      },
      "source": [
        "#hola, soy un comentario\n",
        "import numpy #importamos la librería de funciones matemáticas\n",
        "from matplotlib import pyplot  #importamos la librería de gráficos cartesianos"
      ],
      "execution_count": null,
      "outputs": []
    },
    {
      "cell_type": "markdown",
      "metadata": {
        "id": "DTIjTsUBsCRo"
      },
      "source": [
        "## Trabajar con variables\n",
        "Para instanciar o asignarle valor a una variable usamos el signo \"=\"\n",
        "Las variables persisten en todo el notebook, se pueden usar en cualquier bloque de código una vez que son instanciadas"
      ]
    },
    {
      "cell_type": "code",
      "metadata": {
        "id": "HwRGEasxcDSQ"
      },
      "source": [
        "a=7 #creamos la variable \"a\" y le asignamos el valor 7\n",
        "#se puede destinar un bloque de código para "
      ],
      "execution_count": null,
      "outputs": []
    },
    {
      "cell_type": "markdown",
      "metadata": {
        "id": "tCERy95nsKMA"
      },
      "source": [
        "En el bloque de abajo usamos la variable \"a\" de arriba"
      ]
    },
    {
      "cell_type": "code",
      "metadata": {
        "id": "FWdruzlJzCbi",
        "colab": {
          "base_uri": "https://localhost:8080/",
          "height": 34
        },
        "outputId": "b0baab79-6ba0-46f1-864c-661eef06914d"
      },
      "source": [
        "a+5 #realizamos una operación con la variable \"a\", debajo aparece el resultado de la operación"
      ],
      "execution_count": null,
      "outputs": [
        {
          "output_type": "execute_result",
          "data": {
            "text/plain": [
              "12"
            ]
          },
          "metadata": {
            "tags": []
          },
          "execution_count": 30
        }
      ]
    },
    {
      "cell_type": "markdown",
      "metadata": {
        "id": "rGAEl0AivG52"
      },
      "source": [
        "##Ingresar datos usando formularios\n",
        "Los formularios permiten capturar datos de usuario para usarlos posteriormente en la ejecución de código.  \n",
        "* Para insertar un formulario se debe presionar el botón más acciones de celda (**⋮**) a la derecha de la celda de código. *No se debe usar `Insertar→Agregar campo de formulario` porque actualmente no funciona esta opción*.  \n",
        "* Ejemplos del uso de formularios se pueden encontrar [aquí](https://colab.research.google.com/notebooks/forms.ipynb#scrollTo=_7gRpQLXQSID).  \n",
        "* Desde (**⋮**) se puede ocultar el código asociado a un formulario.\n",
        "\n"
      ]
    },
    {
      "cell_type": "code",
      "metadata": {
        "id": "-cBP8nJSvzod"
      },
      "source": [
        "#@title Ejemplos de formulario\n",
        "valor_formulario_numerico = 5 #@param {type:\"number\"}\n",
        "valor_formulario_slider = 16 #@param {type:\"slider\", min:0, max:100, step:1}\n"
      ],
      "execution_count": null,
      "outputs": []
    },
    {
      "cell_type": "markdown",
      "metadata": {
        "id": "HLHBv_g8xGVs"
      },
      "source": [
        "##Funciones matemáticas\n",
        "* Las funciones aritméticas se encuentran incluidas en Python mediante [operadores](https://www.aprendeprogramando.es/cursos-online/python/operadores-aritmeticos/operadores-aritmeticos)\n",
        "* Funciones adicionales como las trigonométricas se invocan desde la librería numpy. Una vez importada, la podemos usar mediante la sintaxis:\n",
        ">`numpy.nombre de la función`\n",
        "*[Tutorial de funciones de la librería numpy](https://www.interactivechaos.com/manual/tutorial-de-numpy/funciones-universales-trigonometricas)"
      ]
    },
    {
      "cell_type": "code",
      "metadata": {
        "id": "Sv3elqBWxE3g",
        "colab": {
          "base_uri": "https://localhost:8080/",
          "height": 85
        },
        "outputId": "f8f44e5d-cec1-479c-ce28-08a4e49f401f"
      },
      "source": [
        "#Ejemplos de uso de funciones matemáticas\n",
        "#La función print muestra en pantalla un mensaje suministrado por el programador,\n",
        "#el contenido de una variable o alguna operación más compleja con variables\n",
        "\n",
        "print(f'Valor del formulario numerico: {valor_formulario_numerico}')\n",
        "print(f'Valor del formulario numerico al cuadrado: {valor_formulario_numerico**2}')\n",
        "print(f'Raiz cuadrada del formulario numerico al cuadrado: {numpy.sqrt(valor_formulario_numerico)}')\n",
        "print(f'Seno del formulario slider al cuadrado: {numpy.sin(valor_formulario_slider)}')"
      ],
      "execution_count": null,
      "outputs": [
        {
          "output_type": "stream",
          "text": [
            "Valor del formulario numerico: 5\n",
            "Valor del formulario numerico al cuadrado: 25\n",
            "Raiz cuadrada del formulario numerico al cuadrado: 2.23606797749979\n",
            "Seno del formulario slider al cuadrado: -0.2879033166650653\n"
          ],
          "name": "stdout"
        }
      ]
    },
    {
      "cell_type": "markdown",
      "metadata": {
        "id": "AbvSaPLO5nFJ"
      },
      "source": [
        "##Generando gráficas\n"
      ]
    },
    {
      "cell_type": "code",
      "metadata": {
        "id": "HgZh1fEv6JEO",
        "colab": {
          "base_uri": "https://localhost:8080/",
          "height": 312
        },
        "outputId": "fa831237-cc9d-4318-8879-d69f6c214419"
      },
      "source": [
        "pi=numpy.pi #Obtenemos el valor de π desde numpy y lo guardamos en la variable pi\n",
        "t = [i for i in numpy.arange(0,2*pi,pi/1000)] #generamos un vector de 2000 elementos,\n",
        "#con valores entre 0 y 2π en pasos de π/1000\n",
        "corriente=numpy.sin(t); #calculamos el seno de los valores de \"t\"\n",
        "tension=numpy.sin(t+numpy.ones(len(t))*pi/2); #calculamos el seno de los valores\n",
        "#de \"t\" y le sumamos un ángulo de fase de π/2\n",
        "pyplot.plot(t,corriente,t,tension, '-') #generamos un gráfico de tensión y corriente\n",
        "#en función de t grafic\n",
        "pyplot.xlabel(\"Eje X\") #damos nombre al eje X\n",
        "pyplot.ylabel(\"Eje Y\") #damos nombre al eje Y\n",
        "pyplot.title(\"Onda seno\") #agregamos el título al gráfico\n",
        "pyplot.legend([\"Corriente\",\"Tensión\"])\n",
        "pyplot.figure(dpi=100) #ajustamos la resolución de la figura generada\n",
        "pyplot.show() #mostramos el gráfico cuando ya lo tenemos listo"
      ],
      "execution_count": null,
      "outputs": [
        {
          "output_type": "display_data",
          "data": {
            "image/png": "[encoded data removed]",
            "text/plain": [
              "<Figure size 432x288 with 1 Axes>"
            ]
          },
          "metadata": {
            "tags": [],
            "needs_background": "light"
          }
        },
        {
          "output_type": "display_data",
          "data": {
            "text/plain": [
              "<Figure size 600x400 with 0 Axes>"
            ]
          },
          "metadata": {
            "tags": []
          }
        }
      ]
    },
    {
      "cell_type": "markdown",
      "metadata": {
        "id": "Wn5P3s5vD2gq"
      },
      "source": [
        "### Mostrar vectores\n",
        "Para mostrar vectores usamos la funcíon quiver:  \n",
        " `(origen, coordenadas X de las puntas, coordenadas Y de las flechas, color=colores de las flechas)`"
      ]
    },
    {
      "cell_type": "code",
      "metadata": {
        "id": "D8lmR3VrEK7p",
        "colab": {
          "base_uri": "https://localhost:8080/",
          "height": 265
        },
        "outputId": "726bff55-8206-4b61-ae61-fca99777f4f1"
      },
      "source": [
        "V = numpy.array([[1,1],[-2,2],[4,-7]])\n",
        "origin = [0,0,0], [0,0,0] # origin point\n",
        "pyplot.grid()\n",
        "pyplot.quiver([0,0,0], [0,0,0], V[:,0], V[:,1], color=['r','b','g'], scale=23)\n",
        "\n",
        "pyplot.show()"
      ],
      "execution_count": null,
      "outputs": [
        {
          "output_type": "display_data",
          "data": {
            "image/png": "[encoded data removed]",
            "text/plain": [
              "<Figure size 432x288 with 1 Axes>"
            ]
          },
          "metadata": {
            "tags": [],
            "needs_background": "light"
          }
        }
      ]
    },
    {
      "cell_type": "markdown",
      "metadata": {
        "id": "T_Mn0k9jtIQU"
      },
      "source": [
        "##Mostrar fórmulas\n",
        "Para mostrar fórmulas podemos acudir a pyplot `(se podría usar otra librería u otra función si se quisiera)`  \n",
        "Las fórmulas introducidas de esta forma se escriben en LaTex\n",
        "> Un buen editor de fórmulas de LaTex:  https://www.latex4technics.com/ \n",
        "\n",
        "Para generar la fórmula usamos pyplot.text\n",
        "* `pyplot.text(pos X, pos Y, r 'formula en latex', fontsize=tamaño de fuente)`\n",
        "> * En el ejemplo %i indica que se debe reemplazar este símbolo por un valor entero o el contenido de una variable a la derecha del texto  \n",
        "> * Cambiando %i por %f indicaría que se debe interpretar el número externo al texto como valor con coma\n",
        "* `pyplot.axis('off')` indica que no se debe mostrar nada más que el texto\n",
        "* Finalmente, `pyplot.show()` muestra la ecuación\n",
        "\n"
      ]
    },
    {
      "cell_type": "code",
      "metadata": {
        "id": "dwCk1K9-fZml",
        "colab": {
          "base_uri": "https://localhost:8080/",
          "height": 281
        },
        "outputId": "a0b8ab7c-27e2-4f33-95ca-d629eabaabab"
      },
      "source": [
        "#add text\n",
        "pyplot.text(1, 1,r'$\\alpha > \\beta > %i$'% valor_formulario_slider,fontsize=40)\n",
        "pyplot.axis('off')\n",
        "pyplot.show() #or savefig"
      ],
      "execution_count": null,
      "outputs": [
        {
          "output_type": "display_data",
          "data": {
            "image/png": "[encoded data removed]",
            "text/plain": [
              "<Figure size 432x288 with 1 Axes>"
            ]
          },
          "metadata": {
            "tags": [],
            "needs_background": "light"
          }
        }
      ]
    }
  ]
}